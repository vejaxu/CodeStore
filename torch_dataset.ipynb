{
 "cells": [
  {
   "cell_type": "code",
   "execution_count": 1,
   "id": "80bc9df1",
   "metadata": {},
   "outputs": [],
   "source": [
    "# 创建示例文本数据\n",
    "with open(\"torch_dataset.txt\", \"w\", encoding=\"utf-8\") as f:\n",
    "    f.write(\"I love machine learning\\t1\\n\")\n",
    "    f.write(\"Deep learning is fascinating\\t1\\n\")\n",
    "    f.write(\"I hate waiting in line\\t0\\n\")\n",
    "    f.write(\"This is boring\\t0\\n\")\n",
    "    f.write(\"AI will change the world\\t1\\n\")\n"
   ]
  },
  {
   "cell_type": "code",
   "execution_count": 2,
   "id": "5506e9ee",
   "metadata": {},
   "outputs": [
    {
     "name": "stdout",
     "output_type": "stream",
     "text": [
      "Input Ids: torch.Size([2, 128])\n"
     ]
    }
   ],
   "source": [
    "import torch\n",
    "from torch.utils.data import Dataset, DataLoader\n",
    "from transformers import BertTokenizer\n",
    "\n",
    "\n",
    "class TextDataset(Dataset):\n",
    "    def __init__(self, file_path, tokenizer, max_length=128):\n",
    "        super().__init__()\n",
    "        self.samples = []\n",
    "        self.labels = []\n",
    "        self.tokenizer = tokenizer\n",
    "        self.max_length = max_length\n",
    "\n",
    "        with open(file_path, 'r', encoding='utf-8') as f:\n",
    "            for line in f:\n",
    "                text, label = line.strip().split('\\t')\n",
    "                self.samples.append(text)\n",
    "                self.labels.append(int(label))\n",
    "\n",
    "    def __len__(self):\n",
    "        return len(self.samples)\n",
    "        \n",
    "    def __getitem__(self, idx):\n",
    "        text = self.samples[idx]\n",
    "        label = self.labels[idx]\n",
    "\n",
    "        encoded = self.tokenizer(\n",
    "            text, \n",
    "            padding = \"max_length\", \n",
    "            truncation = \"longest_first\", # 高版本的transformers不再接受True作为参数\n",
    "            max_length = self.max_length, \n",
    "            return_tensors = \"pt\"\n",
    "        )\n",
    "        return {\n",
    "            \"input_ids\": encoded[\"input_ids\"].squeeze(0), \n",
    "            \"attention_mask\": encoded[\"attention_mask\"].squeeze(0), \n",
    "            \"label\": torch.tensor(label, dtype=torch.long)\n",
    "        }\n",
    "\n",
    "\n",
    "if __name__ == '__main__':\n",
    "    tokenizer = BertTokenizer.from_pretrained(\"bert-base-uncased\")\n",
    "    dataset = TextDataset(\"torch_dataset.txt\", tokenizer)\n",
    "    dataloader = DataLoader(dataset, batch_size=2, shuffle=False)\n",
    "\n",
    "    for batch in dataloader:\n",
    "        print(f\"Input Ids: {batch['input_ids'].shape}\")\n",
    "        break"
   ]
  },
  {
   "cell_type": "code",
   "execution_count": 3,
   "id": "c25f51df",
   "metadata": {},
   "outputs": [
    {
     "data": {
      "application/vnd.jupyter.widget-view+json": {
       "model_id": "099c0f58da464d0fb0d5c3ce02d969c2",
       "version_major": 2,
       "version_minor": 0
      },
      "text/plain": [
       "Map:   0%|          | 0/5 [00:00<?, ? examples/s]"
      ]
     },
     "metadata": {},
     "output_type": "display_data"
    },
    {
     "name": "stdout",
     "output_type": "stream",
     "text": [
      "input_ids: torch.Size([2, 32])\n",
      "attention_mask: torch.Size([2, 32])\n",
      "labels: tensor([1, 0])\n"
     ]
    }
   ],
   "source": [
    "from datasets import load_dataset, Dataset\n",
    "from transformers import BertTokenizer\n",
    "import torch\n",
    "from torch.utils.data import DataLoader\n",
    "\n",
    "\n",
    "lines = []\n",
    "with open(\"torch_dataset.txt\", 'r', encoding='utf-8') as f:\n",
    "    for line in f:\n",
    "        text, label = line.strip().split('\\t')\n",
    "        lines.append({\"text\": text, \"label\": int(label)})\n",
    "\n",
    "dataset = Dataset.from_list(lines)\n",
    "tokenizer = BertTokenizer.from_pretrained(\"bert-base-uncased\")\n",
    "def tokenize_function(example):\n",
    "    encoded = tokenizer(\n",
    "        example[\"text\"],\n",
    "        padding=\"max_length\",\n",
    "        truncation=True,\n",
    "        max_length=32\n",
    "    )\n",
    "    encoded[\"label\"] = example[\"label\"]\n",
    "    return encoded\n",
    "tokenized_dataset = dataset.map(tokenize_function, batched=False)\n",
    "tokenized_dataset.set_format(type=\"torch\", columns=[\"input_ids\", \"attention_mask\", \"label\"])\n",
    "dataloader = DataLoader(tokenized_dataset, batch_size=2, shuffle=True)\n",
    "for batch in dataloader:\n",
    "    print(\"input_ids:\", batch[\"input_ids\"].shape)\n",
    "    print(\"attention_mask:\", batch[\"attention_mask\"].shape)\n",
    "    print(\"labels:\", batch[\"label\"])\n",
    "    break"
   ]
  }
 ],
 "metadata": {
  "kernelspec": {
   "display_name": "xwj_llm",
   "language": "python",
   "name": "python3"
  },
  "language_info": {
   "codemirror_mode": {
    "name": "ipython",
    "version": 3
   },
   "file_extension": ".py",
   "mimetype": "text/x-python",
   "name": "python",
   "nbconvert_exporter": "python",
   "pygments_lexer": "ipython3",
   "version": "3.10.16"
  }
 },
 "nbformat": 4,
 "nbformat_minor": 5
}
